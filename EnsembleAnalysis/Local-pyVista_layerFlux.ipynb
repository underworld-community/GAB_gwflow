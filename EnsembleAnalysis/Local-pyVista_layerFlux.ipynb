{
 "cells": [
  {
   "cell_type": "code",
   "execution_count": 1,
   "id": "9a47a858",
   "metadata": {},
   "outputs": [],
   "source": [
    "import numpy as np\n",
    "import pyvista as pv\n",
    "import h5py\n",
    "\n",
    "import seaborn as sns\n",
    "import matplotlib.pyplot as plt\n",
    "\n",
    "import os\n",
    "\n",
    "import fnmatch\n",
    "\n",
    "from natsort import natsorted\n",
    "\n",
    "from tqdm import tqdm\n",
    "\n",
    "import  pandas as pd\n",
    "\n",
    "import glob\n",
    "\n",
    "import scipy\n",
    "\n",
    "import rasterio\n",
    "\n",
    "import rioxarray\n",
    "\n",
    "import open3d as o3d\n",
    "\n",
    "import cmcrameri.cm as cmc\n",
    "\n",
    "\n",
    "from mpl_toolkits.axes_grid1 import make_axes_locatable\n",
    "\n",
    "\n",
    "from scipy.ndimage import gaussian_filter\n"
   ]
  },
  {
   "cell_type": "code",
   "execution_count": 2,
   "id": "5d937531",
   "metadata": {},
   "outputs": [],
   "source": [
    "from natsort import natsorted"
   ]
  },
  {
   "cell_type": "markdown",
   "id": "9eadb785",
   "metadata": {},
   "source": [
    "Directory where surfaces are stored"
   ]
  },
  {
   "cell_type": "code",
   "execution_count": 3,
   "id": "5ef8c554",
   "metadata": {},
   "outputs": [],
   "source": [
    "\n",
    "raster_dir = r'/Users/benknight/Documents/UW/GAB-Notebooks/data/GAB_surfaces/GeoTiff/'"
   ]
  },
  {
   "cell_type": "markdown",
   "id": "04c4cd5e",
   "metadata": {},
   "source": [
    "Directory for forward model data"
   ]
  },
  {
   "cell_type": "code",
   "execution_count": 4,
   "id": "ca9757ee",
   "metadata": {},
   "outputs": [],
   "source": [
    "# data_dir = r'/Volumes/Seagate BarraCuda 120/GroundwaterProject-GA/Final_products/'\n",
    "data_dir = r'/Users/benknight/Documents/GAB_project/GAB_models/GAB_forwardModel/'\n",
    "checkpoints = data_dir + r'checkpoints/'\n"
   ]
  },
  {
   "cell_type": "markdown",
   "id": "06f99de3",
   "metadata": {},
   "source": [
    "Directory where to save figs & data"
   ]
  },
  {
   "cell_type": "code",
   "execution_count": 5,
   "id": "27c29ae8",
   "metadata": {},
   "outputs": [],
   "source": [
    "save_figs = data_dir + r'figs/'\n",
    "save_data = data_dir + r'data/'"
   ]
  },
  {
   "cell_type": "markdown",
   "id": "510fcda8",
   "metadata": {},
   "source": [
    "### Data in vtu format"
   ]
  },
  {
   "cell_type": "code",
   "execution_count": 6,
   "id": "dd5742b9",
   "metadata": {},
   "outputs": [],
   "source": [
    "# grid = pv.read(data_dir + 'GAB_keyFields.vtu')\n",
    "\n",
    "# grid.set_active_vectors(\"MLEvelocityField\")\n",
    "\n",
    "    \n",
    "# grid.set_active_scalars('materialMesh') \n",
    "\n",
    "# grid.set_active_vectors(\"MLEvelocityField\")\n",
    "\n",
    "# xmin, xmax, ymin, ymax = grid.bounds[0:4]\n",
    "\n"
   ]
  },
  {
   "cell_type": "markdown",
   "id": "f896b8f4",
   "metadata": {},
   "source": [
    "### Data in h5 format (output from UW model)\n",
    "\n",
    "File name may have to be changed to the correct velocity field"
   ]
  },
  {
   "cell_type": "code",
   "execution_count": 7,
   "id": "d5c963ce",
   "metadata": {},
   "outputs": [],
   "source": [
    "### create a pyvista mesh\n",
    "\n",
    "# define bounding box\n",
    "xmin, xmax, ymin, ymax = -955637.8812, 1034362.2443650428, 6342298.2975, 8922298.39436168\n",
    "zmin, zmax = -8000.0, 1200.0\n",
    "\n",
    "# resolution\n",
    "dx, dy, dz = 10e3, 10e3, 100\n",
    "# dx, dy, dz = 10e3, 10e3, 50\n",
    "Nx, Ny, Nz = int((xmax-xmin)/dx), int((ymax-ymin)/dy), int((zmax-zmin)/dz)\n",
    "\n",
    "\n",
    "\n",
    "Xcoords = np.linspace(xmin,xmax,Nx)\n",
    "Ycoords = np.linspace(ymin,ymax,Ny)\n",
    "\n",
    "grid = pv.StructuredGrid()\n",
    "\n",
    "grid.points = h5py.File(glob.glob(data_dir + 'mesh*')[0], 'r')['vertices'][:]\n",
    "\n",
    "grid.dimensions = Nx+1, Ny+1, Nz+1\n",
    "\n"
   ]
  },
  {
   "cell_type": "code",
   "execution_count": 8,
   "id": "e0bafd09",
   "metadata": {},
   "outputs": [],
   "source": [
    "grid[\"MLEvelocityField\"] = h5py.File(checkpoints + 'velocityField_000833.h5', 'r')['data'][:]\n",
    "grid[\"materialMesh\"] = h5py.File(data_dir + 'materialMesh.h5', 'r')['data'][:] \n",
    "\n",
    "grid.set_active_scalars('materialMesh') \n",
    "grid.set_active_vectors(\"MLEvelocityField\")"
   ]
  },
  {
   "cell_type": "code",
   "execution_count": 9,
   "id": "27e7cecf",
   "metadata": {},
   "outputs": [
    {
     "data": {
      "text/plain": [
       "1.2964823789290527"
      ]
     },
     "execution_count": 9,
     "metadata": {},
     "output_type": "execute_result"
    }
   ],
   "source": [
    "aspectRatio = (ymax-ymin)/(xmax-xmin)\n",
    "aspectRatio"
   ]
  },
  {
   "cell_type": "code",
   "execution_count": 10,
   "id": "bececc03",
   "metadata": {},
   "outputs": [
    {
     "name": "stderr",
     "output_type": "stream",
     "text": [
      "/usr/local/Caskroom/miniconda/base/envs/NA/lib/python3.8/site-packages/pandas/core/arraylike.py:397: RuntimeWarning: divide by zero encountered in log10\n",
      "  result = getattr(ufunc, method)(*inputs, **kwargs)\n"
     ]
    }
   ],
   "source": [
    "df_layers = pd.read_csv(r'/Users/benknight/Documents/GAB_project/GAB_models/data/UW-GAB_layer_parameters.csv')\n",
    "\n",
    "df_layers['conductivity (m/day)'] = 10**(np.log10(df_layers['ogia conductivity min (m/day)']/60*60*24) + np.log10(df_layers['ogia conductivity max (m/day)']/60*60*24) /2.)\n",
    "\n",
    "df_layers['Hydrostratigraphy'] = df_layers.iloc[:,6]\n",
    "\n",
    "\n",
    "matIndex = str(df_layers['mat index'].iloc[1:-1].values)\n",
    "\n",
    "layerAttrs = df_layers[['mat index', 'Name Aquifer/Aquitard', 'conductivity (m/day)', \"Hydrostratigraphy\"]].iloc[1:-1].set_index('Name Aquifer/Aquitard').T.to_dict()\n",
    "\n",
    "\n",
    "LayerNames = dict(zip(df_layers['mat index'].iloc[1:15].astype(int),df_layers['Name Aquifer/Aquitard'].iloc[1:15]))\n"
   ]
  },
  {
   "cell_type": "code",
   "execution_count": 13,
   "id": "ff9eb9be",
   "metadata": {},
   "outputs": [],
   "source": [
    "def create_surfaces(i):\n",
    "    ### only run once at beginning\n",
    "    ### extract the required surfaces\n",
    "    top = rasterio.open(raster_dir + df_layers['Layer name'].iloc[i] + '.tiff').read(1, masked=True)\n",
    "    bottom = rasterio.open(raster_dir + df_layers['Layer name'].iloc[i+1] + '.tiff').read(1, masked=True)\n",
    "    \n",
    "    tiffFile = rioxarray.open_rasterio(raster_dir + df_layers['Layer name'].iloc[i] + '.tiff')\n",
    "    \n",
    "    thickness = np.abs(top.data - bottom.data)\n",
    "    thickness[thickness == 0] = np.nan\n",
    "    base_coords = (top - thickness) \n",
    "    \n",
    "    xx, yy = np.meshgrid(tiffFile.x.values, tiffFile.y.values)\n",
    "\n",
    "    ### extracts the base surface\n",
    "    points0 = np.array((xx.flatten(), yy.flatten(), base_coords.data.flatten())).T\n",
    "\n",
    "\n",
    "\n",
    "    points = np.array((xx.flatten(), yy.flatten(), base_coords.data.flatten())).T[~np.isnan(thickness.flatten())]#[::20]\n",
    "\n",
    "    mask = np.all(np.isin(points0, points), axis=1)\n",
    "\n",
    "\n",
    "    point_data = points0[mask]\n",
    "    \n",
    "    surface = pv.PolyData(point_data)\n",
    "    \n",
    "    ### caculates the normals\n",
    "    pointSet = o3d.geometry.PointCloud()\n",
    "    pointSet.points = o3d.utility.Vector3dVector(points)\n",
    "    pointSet.estimate_normals() \n",
    "    \n",
    "    surface['normals'] = np.asarray(pointSet.normals)\n",
    "    \n",
    "    return surface\n",
    "\n",
    "def probe_grid(grid, surface, velocityField):\n",
    "    ### runs every loop as the velocity field is updated\n",
    "    \n",
    "    data = grid.probe(surface)\n",
    "\n",
    "    \n",
    "    data['velocity'] = np.array([np.dot(data['normals'][v], data[velocityField][v]) for v in range(len(data[velocityField]))])\n",
    "    \n",
    "    \n",
    "        \n",
    "    return data\n",
    "\n",
    "\n",
    "def determine_flux(data):\n",
    "    ### runs every loop as the velocity field is updated\n",
    "    \n",
    "\n",
    "        \n",
    "    return (data['velocity']*(60*60*24)).sum()\n",
    "\n",
    "\n",
    "def calcNormals(points):\n",
    "    pointSet = o3d.geometry.PointCloud()\n",
    "    pointSet.points = o3d.utility.Vector3dVector(points)\n",
    "    pointSet.estimate_normals()\n",
    "    return np.asarray(pointSet.normals)\n",
    "    \n",
    "\n",
    "\n",
    "\n",
    "    \n",
    "    "
   ]
  },
  {
   "cell_type": "markdown",
   "id": "5a22eb80",
   "metadata": {},
   "source": [
    "## Code for all surfaces"
   ]
  },
  {
   "cell_type": "code",
   "execution_count": null,
   "id": "a0c6b0cc",
   "metadata": {},
   "outputs": [],
   "source": [
    "### only run once to create the surfaces\n",
    "surfaces = [create_surfaces(v) for v in np.arange(1,14,1)]"
   ]
  },
  {
   "cell_type": "markdown",
   "id": "3edff7a6",
   "metadata": {},
   "source": [
    "Select the velocity field in the vtu (grid) file to calculate the velocity across the boundary of the layer"
   ]
  },
  {
   "cell_type": "code",
   "execution_count": null,
   "id": "8e4d7be1",
   "metadata": {},
   "outputs": [],
   "source": [
    "### MLE velocity field\n",
    "data0 = [probe_grid(grid, surfaces[v], 'MLEvelocityField') for v in range(len(surfaces))]\n",
    "flux0 = [determine_flux(data0[v]) for v in range(len(data0))]\n",
    "flux0"
   ]
  },
  {
   "cell_type": "code",
   "execution_count": null,
   "id": "199b9b72",
   "metadata": {},
   "outputs": [],
   "source": [
    "### MAP velocity field\n",
    "# data0 = [probe_grid(grid, surfaces[v], 'MAPvelocityField') for v in range(len(surfaces))]\n",
    "# flux0 = [determine_flux(data0[v]) for v in range(len(data0))]\n",
    "# flux0"
   ]
  },
  {
   "cell_type": "code",
   "execution_count": null,
   "id": "b9fbcd71",
   "metadata": {},
   "outputs": [],
   "source": [
    "### ensemble average velocity field\n",
    "# data2 = [probe_grid(grid, surfaces[v], 'meanVelocityField') for v in range(len(surfaces))]\n",
    "# flux2 = [determine_flux(data2[v]) for v in range(len(data2))]\n",
    "# flux2"
   ]
  },
  {
   "cell_type": "markdown",
   "id": "dd146b76",
   "metadata": {},
   "source": [
    "Plot the data for each layer"
   ]
  },
  {
   "cell_type": "code",
   "execution_count": null,
   "id": "4fa36a04",
   "metadata": {
    "scrolled": false
   },
   "outputs": [],
   "source": [
    "for i in range(len(data)):\n",
    "    \n",
    "    \n",
    "    print('Base ' + df_layers['Name Aquifer/Aquitard'].iloc[i+1], \": \" , gaussian_filter(data[i]['velocity']*(60*60*24*365.25), sigma=0.0).sum())\n",
    "    \n",
    "    fig, ax = plt.subplots(figsize=(10,10*aspectRatio))\n",
    "    ax.scatter(data[i].points[:,0], data[i].points[:,1], c=gaussian_filter(data[i]['velocity']*(60*60*24*365.25), sigma=0.0), cmap=cmc.vik, vmin=-1, vmax=1, s=1)\n",
    "    ax.set_xlim(xmin, xmax)\n",
    "    ax.set_ylim(ymin, ymax)\n",
    "    \n",
    "    ax.set_title('Base ' + df_layers['Name Aquifer/Aquitard'].iloc[i+1])\n",
    "\n",
    "    GAB_outline.boundary.plot(ax=ax, lw=0.7, color='k', ls=\"--\")\n",
    "    \n",
    "    plt.show()\n",
    "\n",
    "\n",
    "\n",
    "\n",
    "\n"
   ]
  },
  {
   "cell_type": "markdown",
   "id": "c6421974",
   "metadata": {},
   "source": [
    "### Extract data for 1 layer and save to geotiff"
   ]
  },
  {
   "cell_type": "code",
   "execution_count": 14,
   "id": "2532a6fe",
   "metadata": {},
   "outputs": [],
   "source": [
    "def extract_layer(i, velocityField, saveTiff=False, save_raster=None):\n",
    "    '''\n",
    "    i : index of layer of interest\n",
    "    velocityField : velocity field to caculate the flux on\n",
    "    saveTiff : To save the flux as a geotiff, saves to same directory input tiffs are stored in\n",
    "    \n",
    "    '''\n",
    "    \n",
    "    \n",
    "    # for i in range(1, len(df_layers)-2):\n",
    "    \n",
    "    print('top: ' + df_layers['Name Aquifer/Aquitard'].iloc[i])\n",
    "    print('bottom: ' + df_layers['Name Aquifer/Aquitard'].iloc[i+1])\n",
    "\n",
    "    top = rasterio.open(raster_dir + df_layers['Layer name'].iloc[i] + '.tiff').read(1, masked=True)\n",
    "\n",
    "\n",
    "    tiffFile = rioxarray.open_rasterio(raster_dir + df_layers['Layer name'].iloc[i] + '.tiff')\n",
    "\n",
    "    bottom = rasterio.open(raster_dir + df_layers['Layer name'].iloc[i+1] + '.tiff').read(1, masked=True)\n",
    "\n",
    "\n",
    "\n",
    "\n",
    "    thickness = np.abs(top.data - bottom.data)\n",
    "\n",
    "    thickness[thickness == 0] = np.nan\n",
    "\n",
    "    #     thickness[thickness<=0] = np.nan\n",
    "\n",
    "    base_coords = (top - thickness) #bottom[thickness>=0].shape\n",
    "    \n",
    "    xx, yy = np.meshgrid(tiffFile.x.values, tiffFile.y.values)\n",
    "\n",
    "    points0 = np.array((xx.flatten(), yy.flatten(), base_coords.data.flatten())).T\n",
    "\n",
    "\n",
    "\n",
    "    points = np.array((xx.flatten(), yy.flatten(), base_coords.data.flatten())).T[~np.isnan(thickness.flatten())]#[::20]\n",
    "\n",
    "    mask = np.all(np.isin(points0, points), axis=1)\n",
    "\n",
    "\n",
    "    point_data = points0[mask]\n",
    "    \n",
    "    # simply pass the numpy points to the PolyData constructor\n",
    "    cloud = pv.PolyData(point_data)\n",
    "    # cloud.plot(point_size=5)\n",
    "    cloud = grid.probe(cloud)\n",
    "    \n",
    "    \n",
    "    cloud['Normals'] = calcNormals(cloud.points)\n",
    "    \n",
    "    \n",
    "    cloud['velocity'] = np.array([np.dot(cloud['Normals'][v], cloud[velocityField][v]) for v in range(len(cloud[velocityField]))])\n",
    "\n",
    "    \n",
    "    values = np.zeros_like(thickness.flatten())\n",
    "    values[:,] = np.nan\n",
    "    values\n",
    "\n",
    "    values[mask] = cloud['velocity']\n",
    "    \n",
    "\n",
    "\n",
    "    tiffFile = rasterio.open(raster_dir + df_layers['Layer name'].iloc[i] + '.tiff').read(1, masked=True)\n",
    "\n",
    "    tiffFile0 = rasterio.open(raster_dir + df_layers['Layer name'].iloc[i] + '.tiff')\n",
    "\n",
    "\n",
    "    gridded_data = values.reshape(tiffFile.data.shape)\n",
    "\n",
    "\n",
    "\n",
    "    if saveTiff == True:\n",
    "        new_dataset = rasterio.open(\n",
    "        save_raster+'baseflow-' + df_layers['Name Aquifer/Aquitard'].iloc[i] + '.tiff',\n",
    "        'w',\n",
    "        driver='GTiff',\n",
    "        height=tiffFile.shape[0],\n",
    "        width=tiffFile.shape[1],\n",
    "        count=1,\n",
    "        dtype=v_reshape.dtype,\n",
    "        nodata=np.nan,\n",
    "        crs=tiffFile0.crs,\n",
    "        transform= tiffFile0.transform)\n",
    "\n",
    "\n",
    "        new_dataset.write(v_reshape, 1)\n",
    "\n",
    "        new_dataset.close()\n",
    "        \n",
    "        print('saved ' + 'baseflow-' + df_layers['Name Aquifer/Aquitard'].iloc[i] + '.tiff')\n",
    "        \n",
    "    else:\n",
    "        pass\n",
    "    \n",
    "    \n",
    "    return cloud, gridded_data\n",
    "\n"
   ]
  },
  {
   "cell_type": "code",
   "execution_count": 15,
   "id": "1e426a8b",
   "metadata": {},
   "outputs": [
    {
     "name": "stdout",
     "output_type": "stream",
     "text": [
      "top: Cadna-owie-Hooray\n",
      "bottom: Westbourne\n"
     ]
    }
   ],
   "source": [
    "cloud, gridded_data = extract_layer(i=5, velocityField='MLEvelocityField', save_raster=data_dir)\n",
    "\n"
   ]
  },
  {
   "cell_type": "code",
   "execution_count": 49,
   "id": "731d969d",
   "metadata": {},
   "outputs": [
    {
     "name": "stderr",
     "output_type": "stream",
     "text": [
      "ERROR - 2022-07-19 12:26:20,063 - collection - PROJ: proj_identify: /usr/local/Caskroom/miniconda/base/envs/NA/share/proj/proj.db lacks DATABASE.LAYOUT.VERSION.MAJOR / DATABASE.LAYOUT.VERSION.MINOR metadata. It comes from another PROJ installation.\n",
      "INFO - 2022-07-19 12:26:20,077 - collection - Failed to auto identify EPSG: 7\n",
      "ERROR - 2022-07-19 12:26:20,205 - collection - PROJ: proj_identify: /usr/local/Caskroom/miniconda/base/envs/NA/share/proj/proj.db lacks DATABASE.LAYOUT.VERSION.MAJOR / DATABASE.LAYOUT.VERSION.MINOR metadata. It comes from another PROJ installation.\n"
     ]
    }
   ],
   "source": [
    "import fiona\n",
    "import geopandas as gpd\n",
    "\n",
    "\n",
    "GAB_outline = gpd.read_file(r'/Users/benknight/Documents/GAB_project/GIS_datasets/GAB_boundary_z55/GAB_boundary_z55.shp')\n",
    "\n",
    "AusStates = gpd.read_file(r'/Users/benknight/Documents/GAB_project/GIS_datasets/STE_2021_AUST_SHP_GDA2020/STE_2021_AUST_GDA2020.shp')\n",
    "\n"
   ]
  },
  {
   "cell_type": "code",
   "execution_count": null,
   "id": "78f3fb2b",
   "metadata": {},
   "outputs": [],
   "source": [
    "from scipy.ndimage import gaussian_filter\n",
    "\n",
    "fig, ax = plt.subplots(figsize=(10,10*aspectRatio))\n",
    "\n",
    "# data = ax.scatter(cloud.points[:,0], cloud.points[:,1], c=gaussian_filter(cloud['velocity']*(60*60*24*365.25), sigma=0.0), cmap=cmc.vik, vmin=-1, vmax=1, s=1)\n",
    "data = ax.imshow((gridded_data)*(60*60*24*365.25), extent=grid.bounds[0:4], vmin=-4, vmax=4, cmap=cmc.vik )\n",
    "\n",
    "\n",
    "divider = make_axes_locatable(ax)\n",
    "cax = divider.new_horizontal(size=\"5%\", pad=0.2)\n",
    "fig.add_axes(cax)\n",
    "cb0 = fig.colorbar(data, cax=cax, extend='both')\n",
    "cb0.ax.set_ylabel('velocity [m/year]')\n",
    "\n",
    "cb0.formatter.set_useMathText(True)\n",
    "\n",
    "ax.set_xlim(xmin, xmax)\n",
    "ax.set_ylim(ymin, ymax)\n",
    "\n",
    "ax.xaxis.major.formatter._useMathText = True\n",
    "\n",
    "ax.yaxis.major.formatter._useMathText = True\n",
    "\n",
    "GAB_outline.boundary.plot(ax=ax, lw=0.7, color='k', ls=\"--\")\n",
    "AusStates0 = AusStates.to_crs(28355)\n",
    "AusStates0.boundary.plot(lw=0.4, color='k', ax=ax)\n",
    "\n",
    "ax.set_title('Flux at base of Cadna-owie-Hooray')\n",
    "\n",
    "\n",
    "ax.xaxis.major.formatter._useMathText = True\n",
    "\n",
    "ax.yaxis.major.formatter._useMathText = True\n",
    "\n",
    "ax.set_ylabel(\"N [m]\")\n",
    "\n",
    "ax.set_xlabel(\"E [m]\")\n",
    "\n",
    "rect = fig.patch\n",
    "\n",
    "rect.set_facecolor(\"white\")\n",
    "\n",
    "plt.savefig(save_data +'COH-velatBase-MLE.png', bbox_inches='tight', dpi=300)\n"
   ]
  },
  {
   "cell_type": "code",
   "execution_count": null,
   "id": "80ea1aad",
   "metadata": {},
   "outputs": [],
   "source": []
  }
 ],
 "metadata": {
  "kernelspec": {
   "display_name": "Python 3 (ipykernel)",
   "language": "python",
   "name": "python3"
  },
  "language_info": {
   "codemirror_mode": {
    "name": "ipython",
    "version": 3
   },
   "file_extension": ".py",
   "mimetype": "text/x-python",
   "name": "python",
   "nbconvert_exporter": "python",
   "pygments_lexer": "ipython3",
   "version": "3.8.0"
  }
 },
 "nbformat": 4,
 "nbformat_minor": 5
}
