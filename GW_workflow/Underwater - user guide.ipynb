{
 "cells": [
  {
   "cell_type": "markdown",
   "id": "52174b0f",
   "metadata": {},
   "source": [
    "# User Guide\n",
    "\n",
    "\n",
    "## Welcome to Underwater, built using Underworld! \n",
    "\n",
    "[Underworld](http://www.underworldcode.org) is a Python library for the development of Earth process models. The Underworld Python interface is designed to facilitate interactive and intuitive model development. To this end, we embrace Jupyter Notebooks as the preferred development environment, although the standard Python interpreter is the only requirement. Underworld utilises MPI parallelisation to allow large simulation across HPC facilities. The Python interface was partly funded by the NeCTAR [eResearch_tools](http://www.nectar.org.au/eresearch-tools) program.\n",
    "\n",
    "Underwater is built to model groundwater flow through various lithologies, utilising Darcy's law that describes the flow of a fluid through a porous medium."
   ]
  },
  {
   "cell_type": "markdown",
   "id": "35ba44ce",
   "metadata": {},
   "source": [
    "## Resources\n",
    "\n",
    "There are numerous resources that you might find useful for learning and using Underworld:\n",
    "\n",
    "1. [underworld2.readthedocs.io](http://underworld2.readthedocs.io): The page where most of our primary documentation is published, including this user guide, and the API documentation. It also links out to most other resources.\n",
    "1. [github.com/underworldcode/underworld2](https://github.com/underworldcode/underworld2): Our code repository. You can keep track of changes to the codes base here, and you can also browse most of our documention directly within the Github interface. Don't forget to `Star` and `Watch` our project if you find it useful! \n",
    "1. [github.com/underworldcode/underworld2/issues](https://github.com/underworldcode/underworld2/issues): Please use our issue tracker to report any bugs or difficulties you encounter. This includes any general usage questions as well as technial issues. If you wish to submit a suspected bug, please include a **minimal** example which allows us to reproduce the issue. It is also the place to post any feature requests you may have!\n",
    "\n",
    "Similar resources can be found for Underwater:\n",
    "\n",
    "1. [underworld2.readthedocs.io](http://underworld2.readthedocs.io): The page where most of our primary documentation is published, including this user guide, and the API documentation. It also links out to most other resources.\n",
    "1. [github.com/underworldcode/underworld2](https://github.com/underworldcode/underworld2): Our code repository. You can keep track of changes to the codes base here, and you can also browse most of our documention directly within the Github interface. Don't forget to `Star` and `Watch` our project if you find it useful! \n",
    "1. [github.com/underworldcode/underworld2/issues](https://github.com/underworldcode/underworld2/issues): Please use our issue tracker to report any bugs or difficulties you encounter. This includes any general usage questions as well as technial issues. If you wish to submit a suspected bug, please include a **minimal** example which allows us to reproduce the issue. It is also the place to post any feature requests you may have!"
   ]
  },
  {
   "cell_type": "markdown",
   "id": "40376e83",
   "metadata": {},
   "source": [
    "## How to get help\n",
    "\n",
    "If you encounter issues or suspect a bug, please create a ticket using the [Underworld](https://github.com/underworldcode/underworld2/issues) or the [Underwater](https://github.com/underworldcode/underworld2/issues) issue trackers on github.\n"
   ]
  },
  {
   "cell_type": "markdown",
   "id": "a8f7a40b",
   "metadata": {},
   "source": [
    "# Tutorials"
   ]
  },
  {
   "cell_type": "markdown",
   "id": "1def82a3",
   "metadata": {},
   "source": [
    "### Underworld usage\n",
    "The Underworld documentation is a great place to learn the key aspects of the Underworld code that are utilised in Underwater.\n",
    "\n",
    "It covers:\n",
    "- [How to create a mesh](/Underworld/user_guide/02_TheMesh.ipynb)\n",
    "- [How to populate the mesh with a swarm](/Underworld/user_guide/03_Swarms.ipynb)\n",
    "- [Functions to build mathematical expressions](/Underworld/user_guide/04_Functions.ipynb)\n",
    "- [Systems used in Underworld](/Underworld/user_guide/05_Systems.ipynb): Includes how to set up boundary conditions.\n",
    "- [Utilities included in Underworld](/Underworld/user_guide/06_Utilities.ipynb): Includes how to calculate integrals and how to save model outputs. \n",
    "- [How to create figures within notebooks](/Underworld/user_guide/07_Visualisation.ipynb): Utilises the rendering capabilities provided by [LavaVu](https://github.com/OKaluza/LavaVu)."
   ]
  },
  {
   "cell_type": "markdown",
   "id": "d2753518",
   "metadata": {},
   "source": [
    "### Cell averaging\n",
    "- [Performance](Notebooks/Weighted_average_performance.ipynb): A basic model setup that tests the performance of different implimentations to calculate the arithmetic mean of the hydraulic conductivity for each cell.\n",
    "\n",
    "\n",
    "- [Methods](Notebooks/Cell_averaging_methods.ipynb): A basic model setup that tests various averaging techniques to produce a uniform hydraulic conductivity for each cell."
   ]
  },
  {
   "cell_type": "markdown",
   "id": "0f0ed040",
   "metadata": {},
   "source": [
    "### Simple 2D models\n",
    " - [Fluid flow through a thinning layer](Notebooks/basic-2D-groundwater-flow.ipynb): A model that shows the fluid flow through a layer that thins to ~100 m at the centre. This model also includes the arithmetic mean to determine a uniform hydraulic conductivity for each cell.\n",
    " \n",
    " \n",
    " - [Resolution test of fluid flow through a thinning layer](Notebooks/basic-2D-groundwater-flow-res_test.ipynb): This script shows how varying the resolution or particles per cell influences the solution of the model.\n",
    " "
   ]
  },
  {
   "cell_type": "markdown",
   "id": "65f76f1d",
   "metadata": {},
   "source": [
    "## Using georeferenced data"
   ]
  },
  {
   "cell_type": "markdown",
   "id": "b8f9ba3b",
   "metadata": {},
   "source": [
    "### Converting datasets\n",
    "- [Converting georeferenced data](Notebooks/Convert_data_example.ipynb): This script describes how to convert coordinate systems into a format that can be used by Undeworld and Underwater. The coordinate system must use a unit length system."
   ]
  },
  {
   "cell_type": "markdown",
   "id": "0f912717",
   "metadata": {},
   "source": [
    "### 3D models\n",
    "- [Deforming surface to topography](Notebooks/Deforming_surface_to_topography.ipynb): A script that shows how to deform the top surface of the model to match topographic data.\n",
    "\n",
    "\n",
    "- [Determining vertical resolution](Notebooks/Min_vertical_res.ipynb): A script to use to determine the minimum vertical resolution due to the deformed top and bottom surfaces.\n",
    "\n",
    "\n",
    "- [Adding geological layers to a model](...): A script that shows how to add multiple geological layers to a model."
   ]
  },
  {
   "cell_type": "code",
   "execution_count": null,
   "id": "28043a9d",
   "metadata": {},
   "outputs": [],
   "source": []
  }
 ],
 "metadata": {
  "kernelspec": {
   "display_name": "Python 3",
   "language": "python",
   "name": "python3"
  },
  "language_info": {
   "codemirror_mode": {
    "name": "ipython",
    "version": 3
   },
   "file_extension": ".py",
   "mimetype": "text/x-python",
   "name": "python",
   "nbconvert_exporter": "python",
   "pygments_lexer": "ipython3",
   "version": "3.8.5"
  }
 },
 "nbformat": 4,
 "nbformat_minor": 5
}
