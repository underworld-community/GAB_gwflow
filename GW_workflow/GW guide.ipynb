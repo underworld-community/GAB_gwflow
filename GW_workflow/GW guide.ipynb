{
 "cells": [
  {
   "cell_type": "markdown",
   "id": "b6637bbd",
   "metadata": {},
   "source": [
    "# Getting Started\n",
    "\n",
    "\n",
    "The groundwater inverse modelling functionality is built using [Underworld](http://www.underworldcode.org), a Python library for the development of Earth process models. The Underworld Python interface is designed to facilitate interactive and intuitive model development. \n",
    "\n",
    "\n",
    "## Workflow\n",
    "\n",
    "Data need to be converted to a coordinate reference system (CRS) that can be used within Underworld. The CRS units need to be in metres so the model can be built using SI units. \n",
    "\n",
    "1. The [01-Convert_surface_layers] notebook can be used to convert the lithological layers between CRS. Any file that can be read by rasterio can be converted.\n",
    "\n",
    "2. The [02-data-compilation] notebook can be used to convert datasets to the required CRS. There is also a workflow to calculate pressure head measurements from shapefile datasets. Australian datasets are used throughout as an example.\n",
    "\n",
    "3. The [GAB-MHmodel] is a notebook that contains the entire workflow for inverse modelling of the Great Artesian Basin (GAB). Only a few modifications need to be made to model a completely different region using the workflow.\n",
    "\n",
    "\n",
    "## Resources\n",
    "\n",
    "There are numerous resources that you might find useful for learning and using Underworld:\n",
    "\n",
    "1. [underworld2.readthedocs.io](http://underworld2.readthedocs.io): The page where most of our primary documentation is published, including this user guide, and the API documentation. It also links out to most other resources.\n",
    "1. [github.com/underworldcode/underworld2](https://github.com/underworldcode/underworld2): Our code repository. You can keep track of changes to the codes base here, and you can also browse most of our documention directly within the Github interface. Don't forget to `Star` and `Watch` our project if you find it useful! \n",
    "1. [github.com/underworldcode/underworld2/issues](https://github.com/underworldcode/underworld2/issues): Please use our issue tracker to report any bugs or difficulties you encounter. This includes any general usage questions as well as technial issues. If you wish to submit a suspected bug, please include a **minimal** example which allows us to reproduce the issue. It is also the place to post any feature requests you may have!\n",
    "1. **The User Guide**: A more focused look at the various aspects of Underworld modelling. Note that each section is a self container Jupyter Notebook document, available in the Underworld repository (`docs/user_guide`). It is also published at the Underworld ReadTheDocs page.\n",
    "1. **Examples**: These notebooks go through the entire Underworld workflow for constructing and solving geophysics models. These models demonstrate Underworld current best usage practises, and are guaranteed to operate correctly for each Underworld release. They are available in the repository at `docs/examples`.\n",
    "1. **API Documentation**: The Underworld API documentation is published at our ReadTheDocs page. Note that the API documentation is embedded in the Python implementation as *docstrings*, and is therefore also available directy via the Python `help()` *built-in*. More usefully, this information is accessible within Jupyter Notebooks via the *tooltips* shortcut `Shift`-`Tab` (when in edit mode).\n",
    "1. [Underworld Models Library](https://github.com/underworldcode/model_library): A repository of Underworld models. The library includes models which reproduce publication results, tutorials, examples and usage tidbits. Note that these models are not explicitly maintained, and so may not operate against the latest version of Underworld. If you scroll to the end of each model, it should state which version of Underworld the repository model was successfully ran against."
   ]
  },
  {
   "cell_type": "code",
   "execution_count": null,
   "id": "51004c9a",
   "metadata": {},
   "outputs": [],
   "source": []
  }
 ],
 "metadata": {
  "kernelspec": {
   "display_name": "Python 3 (ipykernel)",
   "language": "python",
   "name": "python3"
  },
  "language_info": {
   "codemirror_mode": {
    "name": "ipython",
    "version": 3
   },
   "file_extension": ".py",
   "mimetype": "text/x-python",
   "name": "python",
   "nbconvert_exporter": "python",
   "pygments_lexer": "ipython3",
   "version": "3.8.0"
  }
 },
 "nbformat": 4,
 "nbformat_minor": 5
}
