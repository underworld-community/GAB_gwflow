{
 "cells": [
  {
   "cell_type": "markdown",
   "metadata": {},
   "source": [
    "# Convert layer data to geotiff\n",
    "\n",
    "Script to convert layers into a EPSG that can be used in the Underworld model"
   ]
  },
  {
   "cell_type": "code",
   "execution_count": null,
   "metadata": {},
   "outputs": [],
   "source": [
    "import numpy as np\n",
    "import matplotlib.pyplot as plt\n",
    "import netCDF4\n",
    "import rasterio\n",
    "import os\n",
    "from scipy.interpolate import RegularGridInterpolator\n",
    "import geopandas as gpd\n",
    "\n",
    "%matplotlib inline"
   ]
  },
  {
   "cell_type": "markdown",
   "metadata": {},
   "source": [
    "### Directories where data is stored and where to output data\n",
    "Can be any file format that contains georeferenced data that can be read by rasterio ([more info from rasterio](https://rasterio.readthedocs.io/en/latest/topics/reading.html))"
   ]
  },
  {
   "cell_type": "code",
   "execution_count": null,
   "metadata": {
    "scrolled": false
   },
   "outputs": [],
   "source": [
    "file_directory = \"../Zipped zmap surfaces/Zipped zmap surfaces/\"\n",
    "\n",
    "output_geotiff_directory = \"../data/GAB_surfaces/GeoTiff/\"\n",
    "output_numpy_directory = \"../data/GAB_surfaces/NumPy/\"\n",
    "output_png_directory = \"../data/GAB_surfaces/png/\"\n",
    "\n",
    "filenames = sorted(os.listdir(file_directory))\n",
    "n_files = len(filenames)\n",
    "\n",
    "list(zip(range(n_files), filenames))"
   ]
  },
  {
   "cell_type": "code",
   "execution_count": null,
   "metadata": {},
   "outputs": [],
   "source": [
    "### creates the directory\n",
    "for i in list([output_geotiff_directory, output_numpy_directory, output_png_directory]):\n",
    "    if not os.path.exists(i):\n",
    "        os.makedirs(i)\n",
    "        print('created directory: ' + i)"
   ]
  },
  {
   "cell_type": "markdown",
   "metadata": {},
   "source": [
    "### Define EPSG code for data to be converted to\n",
    "EPSG codes can be found [here](https://epsg.io/)\n",
    "\n",
    "Should use metres as the unit of measurement so the model mesh can be created in the same coordinate system"
   ]
  },
  {
   "cell_type": "code",
   "execution_count": null,
   "metadata": {},
   "outputs": [],
   "source": [
    "# define CRS as GDA94 MGA55\n",
    "epsg = 28355\n",
    "\n",
    "crs = rasterio.crs.CRS.from_dict(init='epsg:'+str(epsg))\n"
   ]
  },
  {
   "cell_type": "markdown",
   "metadata": {},
   "source": [
    "Ensure each grid is the same shape and extent"
   ]
  },
  {
   "cell_type": "code",
   "execution_count": null,
   "metadata": {},
   "outputs": [],
   "source": [
    "all_shapes  = np.zeros((n_files, 2), dtype=int)\n",
    "all_extents = np.zeros((n_files, 4))\n",
    "\n",
    "\n",
    "for i, zfilename in enumerate(filenames):\n",
    "    z_file = rasterio.open(file_directory+zfilename)\n",
    "    all_extents[i] = z_file.bounds.left, z_file.bounds.right, z_file.bounds.bottom, z_file.bounds.top\n",
    "    all_shapes[i]  = z_file.shape\n",
    "    z_file.close()\n",
    "    \n",
    "    print(\"{:02d} {} {} {}\".format(i, tuple(all_shapes[i]), all_extents[i], zfilename[:4]))"
   ]
  },
  {
   "cell_type": "markdown",
   "metadata": {},
   "source": [
    "Pick an optimal shape"
   ]
  },
  {
   "cell_type": "code",
   "execution_count": null,
   "metadata": {
    "scrolled": true
   },
   "outputs": [],
   "source": [
    "idx = 5\n",
    "\n",
    "z_file = rasterio.open(file_directory+filenames[idx])\n",
    "z_data = z_file.read(1, masked=True)\n",
    "global_mask = z_data.mask.copy()\n",
    "global_extent = z_file.bounds.left, z_file.bounds.right, z_file.bounds.bottom, z_file.bounds.top\n",
    "global_shape  = tuple(z_file.shape)\n",
    "global_transform = z_file.transform\n",
    "z_file.close()\n",
    "\n",
    "print(\"Resample zmaps to {:s}\\n  shape: {}, \\n extent: {}\".format(filenames[idx],\n",
    "                                                            global_shape,\n",
    "                                                            global_extent))\n"
   ]
  },
  {
   "cell_type": "markdown",
   "metadata": {},
   "source": [
    "Create grid for resampled data"
   ]
  },
  {
   "cell_type": "code",
   "execution_count": null,
   "metadata": {},
   "outputs": [],
   "source": [
    "xcoords, dx = np.linspace(global_extent[0], global_extent[1], global_shape[1], endpoint=False, retstep=True)\n",
    "ycoords, dy = np.linspace(global_extent[2], global_extent[3], global_shape[0], endpoint=False, retstep=True)\n",
    "\n",
    "xq, yq = np.meshgrid(xcoords, ycoords)"
   ]
  },
  {
   "cell_type": "code",
   "execution_count": null,
   "metadata": {},
   "outputs": [],
   "source": [
    "def fill_ndimage(data,invalid=None):\n",
    "    \"\"\"\n",
    "    Replace the value of invalid 'data' cells (indicated by 'invalid')\n",
    "    by the value of the nearest valid data cell\n",
    "    \"\"\"\n",
    "    from scipy.ndimage import distance_transform_edt\n",
    "    masked_array = hasattr(data, \"fill_value\")\n",
    "    if masked_array:\n",
    "        mask_fill_value = data.data == data.fill_value\n",
    "        data = data.data.copy()\n",
    "        data[mask_fill_value] = np.nan\n",
    "    else:\n",
    "        data = data.copy()\n",
    "\n",
    "    if invalid is None:\n",
    "        invalid = np.isnan(data)\n",
    "        if masked_array:\n",
    "            invalid += mask_fill_value\n",
    "    ind = distance_transform_edt(invalid, return_distances=False, return_indices=True)\n",
    "    return data[tuple(ind)]"
   ]
  },
  {
   "cell_type": "markdown",
   "metadata": {},
   "source": [
    "Save the reprojected data in the following formats:\n",
    "- geotiff\n",
    "- png\n",
    "- npz\n",
    "\n",
    "Geotiffs are used in the model to create the layers"
   ]
  },
  {
   "cell_type": "code",
   "execution_count": null,
   "metadata": {},
   "outputs": [],
   "source": [
    "for zfilename in filenames:\n",
    "    # import surface\n",
    "    z_file = rasterio.open(file_directory+zfilename)\n",
    "    z_data = z_file.read(1, masked=True)\n",
    "    extent = z_file.bounds.left, z_file.bounds.right, z_file.bounds.bottom, z_file.bounds.top\n",
    "    name = zfilename[:-9] # remove '_zmap.dat'\n",
    "\n",
    "    # check the shape and bounding box\n",
    "    if z_data.shape != global_shape or extent != global_extent:\n",
    "        print(\" - Resampling\", name)\n",
    "        # resample\n",
    "        xc = np.linspace(extent[0], extent[1], z_file.shape[1], endpoint=False)\n",
    "        yc = np.linspace(extent[2], extent[3], z_file.shape[0], endpoint=False)\n",
    "\n",
    "         # remove mask and fill NaNs\n",
    "        z_array = fill_ndimage(z_data)\n",
    "\n",
    "        # interpolate to global grid\n",
    "        rgi = RegularGridInterpolator((yc, xc), z_array, bounds_error=False, fill_value=None)\n",
    "        z_data_interp = rgi((yq, xq), method='linear')\n",
    "        \n",
    "#         # hacky way to make sure we get no NaNs at the edges of some arrays\n",
    "#         z_data_nearest = rgi((yq, xq), method='nearest')\n",
    "#         mask_NaNs = np.isnan(z_data_interp)\n",
    "#         z_data_interp[mask_NaNs] = z_data_nearest[mask_NaNs]\n",
    "        \n",
    "        # z_data_interp[global_mask] = z_file.nodata\n",
    "        z_data = np.ma.array(data=z_data_interp, mask=global_mask)\n",
    "\n",
    "\n",
    "    # create a plot\n",
    "    fig = plt.figure(figsize=(10,10))\n",
    "    ax1 = fig.add_subplot(111, title=name)\n",
    "    im1 = ax1.imshow(z_data, extent=global_extent)\n",
    "    fig.colorbar(im1)\n",
    "    fig.savefig(output_png_directory+name+'.png', bbox_inches='tight', dpi=300)\n",
    "    plt.close(fig)\n",
    "\n",
    "\n",
    "    # save geotiff\n",
    "    with rasterio.open(output_geotiff_directory+name+'.tiff', 'w', driver='GTiff',\n",
    "                       height=global_shape[0], width=global_shape[1],\n",
    "                       count=1, dtype=z_data.dtype, nodata=z_file.nodata,\n",
    "                       crs=crs, transform=global_transform, GDAL_TIFF_INTERNAL_MASK=True) as gtif:\n",
    "        z_data_gtif = z_data.copy()\n",
    "        z_data_gtif.data[global_mask] = z_file.nodata\n",
    "        gtif.write(z_data_gtif, 1)\n",
    "    \n",
    "    \n",
    "    # save numpy\n",
    "    np.savez_compressed(output_numpy_directory+name+'.npz',\n",
    "                       data=z_data.data, mask=z_data.mask, extent=global_extent, x=xcoords, y=ycoords)\n",
    "    \n",
    "    # close zmap\n",
    "    z_file.close()\n",
    "    \n",
    "    print(\"Finished {}\".format(name))\n"
   ]
  },
  {
   "cell_type": "code",
   "execution_count": null,
   "metadata": {},
   "outputs": [],
   "source": []
  }
 ],
 "metadata": {
  "kernelspec": {
   "display_name": "Python 3 (ipykernel)",
   "language": "python",
   "name": "python3"
  },
  "language_info": {
   "codemirror_mode": {
    "name": "ipython",
    "version": 3
   },
   "file_extension": ".py",
   "mimetype": "text/x-python",
   "name": "python",
   "nbconvert_exporter": "python",
   "pygments_lexer": "ipython3",
   "version": "3.8.0"
  }
 },
 "nbformat": 4,
 "nbformat_minor": 4
}
