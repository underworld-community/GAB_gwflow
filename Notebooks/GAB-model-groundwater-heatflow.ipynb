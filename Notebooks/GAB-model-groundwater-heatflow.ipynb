{
 "cells": [
  {
   "cell_type": "markdown",
   "metadata": {},
   "source": [
    "# GAB model: groundwater + heat flow\n",
    "\n",
    "Each layer corresponds to the region between two surfaces as defined in `UW-GAB_layer_parameters.csv`. Each layer is assigned a \"material index\" which is used to map the thermal and hydraulic properties:\n",
    "\n",
    "- $k_h$: hydraulic conductivity (m/s)\n",
    "- $\\phi$: porosity\n",
    "- $k_T$: thermal conductivity (W/m/K)\n",
    "- $H$: rate of heat production (W/m$^3$)"
   ]
  },
  {
   "cell_type": "code",
   "execution_count": 1,
   "metadata": {},
   "outputs": [],
   "source": [
    "import numpy as np\n",
    "import underworld as uw\n",
    "import pandas as pd\n",
    "import os\n",
    "from scipy.interpolate import RegularGridInterpolator\n",
    "import underworld.visualisation as vis\n",
    "\n",
    "%matplotlib inline"
   ]
  },
  {
   "cell_type": "code",
   "execution_count": 2,
   "metadata": {},
   "outputs": [],
   "source": [
    "### convert between units\n",
    "from pint import UnitRegistry\n",
    "u = UnitRegistry()"
   ]
  },
  {
   "cell_type": "markdown",
   "metadata": {},
   "source": [
    "## Import datasets"
   ]
  },
  {
   "cell_type": "code",
   "execution_count": 3,
   "metadata": {},
   "outputs": [],
   "source": [
    "### directory of stored data\n",
    "data_dir = '/Users/temp/Documents/UW/GAB-Notebooks/data/'\n",
    "\n",
    "numpy_directory = data_dir + \"GAB_surfaces/NumPy/\"\n",
    "# png_directory = \"../data/GAB_surfaces/png/\"\n",
    "surface_filename = numpy_directory + \"{:s}.npz\"\n",
    "\n",
    "df_layers = pd.read_csv(data_dir + \"GAB_surfaces/UW-GAB_layer_parameters.csv\", index_col=0)\n"
   ]
  },
  {
   "cell_type": "markdown",
   "metadata": {},
   "source": [
    "## Set up model dimensions and parameters"
   ]
  },
  {
   "cell_type": "code",
   "execution_count": 133,
   "metadata": {},
   "outputs": [
    {
     "name": "stdout",
     "output_type": "stream",
     "text": [
      "global number of elements in x,y,z (99, 129, 18) | total number of elements = 229878\n"
     ]
    }
   ],
   "source": [
    "Tmin = 298.0\n",
    "Tmax = 500.0\n",
    "Nx, Ny, Nz = 20,20,50 # global size\n",
    "\n",
    "# define bounding box\n",
    "xmin, xmax, ymin, ymax = -955637.8812, 1034362.2443650428, 6342298.2975, 8922298.39436168\n",
    "zmin, zmax = -8000.0, 1200.0\n",
    "\n",
    "# resolution\n",
    "dx, dy, dz = 20e3, 20e3, 50.\n",
    "Nx, Ny, Nz = int((xmax-xmin)/dx), int((ymax-ymin)/dy), int((zmax-zmin)/dz)\n",
    "\n",
    "if uw.mpi.rank == 0:\n",
    "    print(\"global number of elements in x,y,z {} | total number of elements = {}\".format((Nx,Ny,Nz), Nx*Ny*Nz))"
   ]
  },
  {
   "cell_type": "code",
   "execution_count": 6,
   "metadata": {},
   "outputs": [],
   "source": [
    "### file directory to store data\n",
    "\n",
    "simulation_directory = \"../simulations/\"\n",
    "\n",
    "if not os.path.exists(simulation_directory):\n",
    "    os.makedirs(simulation_directory)"
   ]
  },
  {
   "cell_type": "markdown",
   "metadata": {},
   "source": [
    "## Set up the mesh\n",
    "\n",
    "Initialise a Q1 finite element mesh and mesh variables."
   ]
  },
  {
   "cell_type": "code",
   "execution_count": 7,
   "metadata": {},
   "outputs": [],
   "source": [
    "deformedmesh = True\n",
    "elementType = \"Q1\"\n",
    "mesh = uw.mesh.FeMesh_Cartesian( elementType = (elementType), \n",
    "                                 elementRes  = (Nx,Ny,Nz), \n",
    "                                 minCoord    = (xmin,ymin,zmin), \n",
    "                                 maxCoord    = (xmax,ymax,zmax)) \n",
    "\n",
    "gwHydraulicHead            = mesh.add_variable( nodeDofCount=1 )\n",
    "temperatureField           = mesh.add_variable( nodeDofCount=1 )\n",
    "temperatureField0          = mesh.add_variable( nodeDofCount=1 )\n",
    "velocityField              = mesh.add_variable( nodeDofCount=3 )\n",
    "heatProductionField        = mesh.add_variable( nodeDofCount=1 )\n",
    "\n",
    "\n",
    "\n",
    "coords = mesh.data\n",
    "\n",
    "Xcoords = np.unique(coords[:,0])\n",
    "Ycoords = np.unique(coords[:,1])\n",
    "Zcoords = np.unique(coords[:,2])\n",
    "nx, ny, nz = Xcoords.size, Ycoords.size, Zcoords.size"
   ]
  },
  {
   "cell_type": "code",
   "execution_count": 48,
   "metadata": {},
   "outputs": [],
   "source": [
    "meshMaterial               = mesh.add_variable( nodeDofCount=1 )"
   ]
  },
  {
   "cell_type": "markdown",
   "metadata": {},
   "source": [
    "## Deform bottom of mesh to top of basement\n",
    "\n",
    "We want to deform the $z$-axis spacing so that the bottom of the mesh follows the shape of the top of the basement."
   ]
  },
  {
   "cell_type": "code",
   "execution_count": 8,
   "metadata": {},
   "outputs": [],
   "source": [
    "# with np.load(surface_filename.format('W910_BASEMENT_v1')) as npz:\n",
    "#     basement_interp = RegularGridInterpolator((npz['y'], npz['x']), np.flipud(npz['data']))\n",
    "#     max_basement_coord = npz['data'].max()\n",
    "    \n",
    "\n",
    "    \n",
    "    \n",
    "# basement_shape = basement_interp((mesh.data[:,1], mesh.data[:,0]))\n",
    "\n",
    "# # depth below which to deform\n",
    "# z_deform = zmin\n",
    "\n",
    "\n",
    "# with mesh.deform_mesh():\n",
    "#     zcube = coords[:,2].reshape(nz,ny,nx)\n",
    "#     zcube_norm = zcube.copy()\n",
    "#     zcube_norm -= z_deform\n",
    "#     zcube_norm /= zmax - z_deform\n",
    "#     zcube_mask = zcube_norm < 0\n",
    "    \n",
    "#     # difference to add to existing z coordinates\n",
    "#     dzcube = zcube_norm * -(zmax - basement_shape.reshape(zcube.shape))\n",
    "    \n",
    "#     mesh.data[:,2] += dzcube.ravel()\n",
    "#     coords = mesh.data"
   ]
  },
  {
   "cell_type": "code",
   "execution_count": 9,
   "metadata": {},
   "outputs": [],
   "source": [
    "# with np.load(surface_filename.format(df_layers['Layer name'].iloc[-2])) as npz:\n",
    "#     basement_interp = RegularGridInterpolator((npz['y'], npz['x']), np.flipud(npz['data']))\n",
    "    \n",
    "# basement_shape = basement_interp((mesh.data[:,1], mesh.data[:,0]))\n",
    "\n",
    "# ### deform mesh that is below the basement\n",
    "# with mesh.deform_mesh():\n",
    "#     ### add values \n",
    "#     mesh.data[:,2][mesh.data[:,2] < basement_shape] += basement_shape[mesh.data[:,2] < basement_shape] - mesh.data[:,2][mesh.data[:,2] < basement_shape]\n"
   ]
  },
  {
   "cell_type": "markdown",
   "metadata": {},
   "source": [
    "## Deform mesh to surface topography\n",
    "\n",
    "We want to deform the $z$-axis spacing so that the surface of the mesh is draped over the topography."
   ]
  },
  {
   "cell_type": "code",
   "execution_count": 10,
   "metadata": {},
   "outputs": [],
   "source": [
    "with np.load(surface_filename.format(df_layers['Layer name'].iloc[0])) as npz:\n",
    "    topo_interp = RegularGridInterpolator((npz['y'], npz['x']), np.flipud(npz['data']))\n",
    "    \n",
    "    \n",
    "local_topography = topo_interp((mesh.data[:,1], mesh.data[:,0]))\n",
    "\n",
    "# depth above which to deform\n",
    "z_deform = zmin\n",
    "\n",
    "with mesh.deform_mesh():\n",
    "    zcube = coords[:,2].reshape(nz,ny,nx)\n",
    "    zcube_norm = zcube.copy()\n",
    "    zcube_norm -= z_deform\n",
    "    zcube_norm /= zmax - z_deform\n",
    "    zcube_mask = zcube_norm < 0\n",
    "    \n",
    "    # difference to add to existing z coordinates\n",
    "    dzcube = zcube_norm * -(zmax - local_topography.reshape(zcube.shape))\n",
    "    \n",
    "    mesh.data[:,2] += dzcube.ravel()\n",
    "    coords = mesh.data"
   ]
  },
  {
   "cell_type": "markdown",
   "metadata": {},
   "source": [
    "## Set up the types of boundary conditions\n",
    "\n",
    "Set the left, right and bottom walls such that flow cannot pass through them, only parallel.\n",
    "In other words for groundwater head $h$:\n",
    "\n",
    "$ \\frac{\\partial h}{\\partial x}=0$ : left and right walls\n",
    "\n",
    "$ \\frac{\\partial h}{\\partial y}=0$ : bottom wall\n",
    "\n",
    "This is only solvable if there is topography or a non-uniform upper hydraulic head boundary condition."
   ]
  },
  {
   "cell_type": "code",
   "execution_count": 11,
   "metadata": {},
   "outputs": [],
   "source": [
    "topWall = mesh.specialSets[\"MaxK_VertexSet\"]\n",
    "bottomWall = mesh.specialSets[\"MinK_VertexSet\"]\n",
    "\n",
    "gwPressureBC = uw.conditions.DirichletCondition( variable      = gwHydraulicHead, \n",
    "                                               indexSetsPerDof = ( topWall   ) )\n",
    "\n",
    "temperatureBC = uw.conditions.DirichletCondition( variable        = temperatureField,\n",
    "                                                  indexSetsPerDof = (topWall+bottomWall))"
   ]
  },
  {
   "cell_type": "code",
   "execution_count": 12,
   "metadata": {},
   "outputs": [],
   "source": [
    "# create a linear gradient [0, 1] top to bottom of mesh\n",
    "znorm = mesh.data[:,2].copy()\n",
    "znorm -= zmin\n",
    "znorm /= (zmax-zmin)\n",
    "linear_gradient = 1.0 - znorm\n",
    "\n",
    "# pressure and temperature initial conditions\n",
    "initial_pressure = linear_gradient*(zmax-zmin)\n",
    "initial_temperature = linear_gradient*(Tmax - Tmin) + Tmin\n",
    "initial_temperature = np.clip(initial_temperature, Tmin, Tmax)\n",
    "\n",
    "gwHydraulicHead.data[:]  = initial_pressure.reshape(-1,1)\n",
    "temperatureField.data[:] = initial_temperature.reshape(-1,1)\n",
    "\n",
    "# assign BCs (account for pressure of water below sea level)\n",
    "sealevel = 0.0\n",
    "seafloor = topWall[mesh.data[topWall,2] < sealevel]\n",
    "\n",
    "gwHydraulicHead.data[topWall] = 0.\n",
    "gwHydraulicHead.data[seafloor] = -((mesh.data[seafloor,2]-sealevel)*1.0).reshape(-1,1)\n",
    "\n",
    "\n",
    "temperatureField.data[topWall] = Tmin\n",
    "temperatureField.data[bottomWall] = Tmax"
   ]
  },
  {
   "cell_type": "markdown",
   "metadata": {},
   "source": [
    "### Import water table surface"
   ]
  },
  {
   "cell_type": "code",
   "execution_count": 13,
   "metadata": {
    "lines_to_next_cell": 0
   },
   "outputs": [],
   "source": [
    "with np.load(data_dir + '/water_table_surface.npz') as npz:\n",
    "    wt = npz['data']\n",
    "    wt_x = npz['x']\n",
    "    wt_y = npz['y']\n",
    "\n",
    "rgi_wt = RegularGridInterpolator((wt_y, wt_x), wt)\n",
    "\n",
    "wt_interp = rgi_wt(mesh.data[topWall,0:2][:,::-1])"
   ]
  },
  {
   "cell_type": "code",
   "execution_count": 14,
   "metadata": {},
   "outputs": [],
   "source": [
    "zCoordFn = uw.function.input()[2]\n",
    "\n",
    "gwHydraulicHead.data[:] = zCoordFn.evaluate(mesh)\n",
    "\n",
    "gwHydraulicHead.data[topWall] += (-wt_interp).reshape(-1,1)\n",
    "\n",
    "\n"
   ]
  },
  {
   "cell_type": "markdown",
   "metadata": {},
   "source": [
    "## Set up particle swarm\n",
    "\n",
    "Each cell contains particles that _must_ be assigned isotropic thermal and hydraulic properties.\n",
    "\n",
    "> __Four__ particles per cell seems to prevent the model from crashing."
   ]
  },
  {
   "cell_type": "code",
   "execution_count": 15,
   "metadata": {},
   "outputs": [],
   "source": [
    "gaussPointCount = 1\n",
    "gaussPointPerCell = gaussPointCount**mesh.dim\n",
    "\n",
    "swarm         = uw.swarm.Swarm( mesh=mesh )\n",
    "swarmLayout   = uw.swarm.layouts.PerCellGaussLayout(swarm=swarm, gaussPointCount=gaussPointCount)\n",
    "swarm.populate_using_layout( layout=swarmLayout )"
   ]
  },
  {
   "cell_type": "code",
   "execution_count": 16,
   "metadata": {
    "lines_to_next_cell": 2
   },
   "outputs": [],
   "source": [
    "materialIndex  = swarm.add_variable( dataType=\"int\",    count=1 )\n",
    "cellCentroid   = swarm.add_variable( dataType=\"double\", count=3 )\n",
    "swarmVelocity  = swarm.add_variable( dataType=\"double\", count=3 )\n",
    "\n",
    "hydraulicDiffusivity    = swarm.add_variable( dataType=\"double\", count=1 )\n",
    "fn_hydraulicDiffusivity = swarm.add_variable( dataType=\"double\", count=1 )\n",
    "thermalDiffusivity      = swarm.add_variable( dataType=\"double\", count=1 )\n",
    "heatProduction          = swarm.add_variable( dataType=\"double\", count=1 )\n",
    "a_exponent              = swarm.add_variable( dataType=\"double\", count=1 )\n",
    "\n",
    "### used on the velocity field to caculate darcy flow\n",
    "porosity                = mesh.add_variable( nodeDofCount=1 )\n"
   ]
  },
  {
   "cell_type": "raw",
   "metadata": {},
   "source": [
    "# find cell centroids (parallel-safe, but need to accelerate this bit.)\n",
    "\n",
    "for cell in range(0, mesh.elementsLocal):\n",
    "    mask_cell = swarm.owningCell.data == cell\n",
    "    idx_cell  = np.nonzero(mask_cell)[0]\n",
    "    cell_centroid = swarm.data[idx_cell].mean(axis=0)\n",
    "    cellCentroid.data[idx_cell] = cell_centroid\n",
    " \n",
    "### list comprehension version, may be some speed-up?\n",
    "cellCentroid.data[:] = np.array([(swarm.data[np.nonzero(swarm.owningCell.data == cell)[0]]).mean(axis=0) for cell in range(0, mesh.elementsLocal)])\n"
   ]
  },
  {
   "cell_type": "code",
   "execution_count": 17,
   "metadata": {
    "lines_to_next_cell": 0
   },
   "outputs": [],
   "source": [
    "# find the centroids using a single gaussPointCount per cell (parallel-safe, maybe)\n",
    "\n",
    "swarm0         = uw.swarm.Swarm( mesh=mesh )\n",
    "swarmLayout0   = uw.swarm.layouts.PerCellGaussLayout(swarm=swarm0, gaussPointCount=1)\n",
    "swarm0.populate_using_layout( layout=swarmLayout0 )\n",
    "\n",
    "cell_centroids = swarm0.data[:]\n",
    "cellCentroid.data[:] = np.repeat(cell_centroids, gaussPointPerCell, axis=0)"
   ]
  },
  {
   "cell_type": "markdown",
   "metadata": {},
   "source": [
    "## Import geological surfaces\n",
    "\n",
    "Assign a material index for all cell centroids which lie between two surfaces\n",
    "\n",
    "## Assign material properties\n",
    "\n",
    "Use level sets to assign hydraulic diffusivities to a region on the mesh corresponding to any given material index.\n",
    "\n",
    "- $H$       : rate of heat production\n",
    "- $\\rho$     : density\n",
    "- $k_h$     : hydraulic conductivity\n",
    "- $k_t$     : thermal conductivity\n",
    "- $\\kappa_h$ : hydraulic diffusivity\n",
    "- $\\kappa_t$ : thermal diffusivity"
   ]
  },
  {
   "cell_type": "code",
   "execution_count": 18,
   "metadata": {
    "lines_to_next_cell": 2
   },
   "outputs": [],
   "source": [
    "#### set all material to basement material initially\n",
    "index = df_layers['mat index'][df_layers['Base Surface'].str.contains('basement', case=False)].iloc[0]\n",
    "\n",
    "### assign material variables\n",
    "materialIndex.data[:] = index\n",
    "\n",
    "### add in layer properties\n",
    "fn_hydraulicDiffusivity.data[:] = (df_layers['ogia conductivity max (m/day)'].iloc[index] * u.meter/u.day).to(u.meter/u.second).magnitude\n",
    "\n",
    "hydraulicDiffusivity.data[:] = (df_layers['ogia conductivity max (m/day)'].iloc[index] * u.meter/u.day).to(u.meter/u.second).magnitude\n",
    "\n",
    "thermalDiffusivity.data[:] = df_layers['thermal conductivity'].iloc[index]\n",
    "\n",
    "a_exponent.data[:] = df_layers['a (T)'].iloc[index]\n",
    "\n",
    "heatProduction.data[:] = df_layers['Heat production (W/m3)'].iloc[index]\n",
    "\n",
    "porosity.data[:] = df_layers['Porosity (%Vol)'].iloc[index] / 100 # from % to a value between 0 and 1\n"
   ]
  },
  {
   "cell_type": "code",
   "execution_count": 19,
   "metadata": {
    "lines_to_next_cell": 0
   },
   "outputs": [
    {
     "name": "stdout",
     "output_type": "stream",
     "text": [
      "Layer  1  Shallow aquifer\n",
      "Layer  2  Lake Eyre\n",
      "Layer  3  Winton-Mackunda\n",
      "Layer  4  Rolling Downs\n",
      "Layer  5  Cadna-owie-Hooray\n",
      "Layer  6  Westbourne\n",
      "Layer  7  Adori-Springbok\n",
      "Layer  8  Birkhead-Walloon\n",
      "Layer  9  Hutton\n",
      "Layer 10  Evergreen-Poolowanna\n",
      "Layer 11  Precipice\n",
      "Layer 12  Triassic Basins\n"
     ]
    }
   ],
   "source": [
    "### gf to smooth the surfaces\n",
    "from scipy.ndimage import gaussian_filter\n",
    "\n",
    "mask_layer = np.ones(swarm.data.shape[0], dtype=bool)\n",
    "\n",
    "\n",
    "\n",
    "## starting from the surface and going deeper with each layer\n",
    "## skip topography as mesh is already deformed to topo\n",
    "for index in df_layers.index[:]:\n",
    "    row = df_layers.loc[index]\n",
    "    \n",
    "    # load surface\n",
    "    with np.load(surface_filename.format(row['Layer name'])) as npz:\n",
    "        layer_interp = RegularGridInterpolator((npz['y'], npz['x']), gaussian_filter(np.flipud(npz['data']), sigma=1))\n",
    "        \n",
    "    # interpolate surface to cell centroids\n",
    "    z_interp = layer_interp((cellCentroid.data[:,1], cellCentroid.data[:,0]))\n",
    "    z_interp_mesh = layer_interp((mesh.data[:,1], mesh.data[:,0]))\n",
    "    \n",
    "    # assign index to swarm particles which are below the current surface\n",
    "    # if they are above the surface then we are done.\n",
    "#     mask_layer[cellCentroid.data[:,2] > z_interp] = False\n",
    "    mask_layer = cellCentroid.data[:,2] < z_interp\n",
    "    mask_layer_mesh = mesh.data[:,2] < z_interp_mesh\n",
    "    \n",
    "    ### assign material variables\n",
    "    materialIndex.data[mask_layer] = index\n",
    "    \n",
    "    ### add in layer properties\n",
    "    fn_hydraulicDiffusivity.data[mask_layer] = (df_layers['ogia conductivity max (m/day)'].iloc[index] * u.meter/u.day).to(u.meter/u.second).magnitude\n",
    "\n",
    "    hydraulicDiffusivity.data[mask_layer] = (df_layers['ogia conductivity max (m/day)'].iloc[index] * u.meter/u.day).to(u.meter/u.second).magnitude\n",
    "    \n",
    "    thermalDiffusivity.data[mask_layer] = df_layers['thermal conductivity'].iloc[index]\n",
    "    \n",
    "    a_exponent.data[mask_layer] = df_layers['a (T)'].iloc[index]\n",
    "    \n",
    "    heatProduction.data[mask_layer] = df_layers['Heat production (W/m3)'].iloc[index]\n",
    "    \n",
    "    porosity.data[mask_layer_mesh] = df_layers['Porosity (%Vol)'].iloc[index] / 100 # from % to a value between 0 and 1\n",
    "\n",
    "    \n",
    "    \n",
    "    if uw.mpi.rank == 0:\n",
    "        print(\"Layer {:2d}  {}\".format(index, row['Name Aquifer/Aquitard']))\n",
    "    \n",
    "    \n",
    "    "
   ]
  },
  {
   "cell_type": "markdown",
   "metadata": {},
   "source": [
    "\n"
   ]
  },
  {
   "cell_type": "code",
   "execution_count": 20,
   "metadata": {},
   "outputs": [],
   "source": [
    "# +\n",
    "swarm_topography = topo_interp((cellCentroid.data[:,1],cellCentroid.data[:,0]))\n",
    "mesh_topography  = local_topography\n",
    "\n",
    "beta = 9.3e-3\n",
    "depth = -1.0*(cellCentroid.data[:,2] - swarm_topography)\n",
    "depth = np.clip(depth, 0.0, zmax-zmin)\n",
    "\n",
    "depth_mesh = -1.0*(mesh.data[:,2] - mesh_topography)\n",
    "depth_mesh = np.clip(depth_mesh, 0.0, zmax-zmin)\n",
    "\n",
    "# +\n",
    "Storage = 1.\n",
    "rho_water = 1000.\n",
    "c_water = 4e3\n",
    "coeff = rho_water*c_water\n",
    "\n",
    "# if deformedmesh:\n",
    "#     g = uw.function.misc.constant((0.,0.,-1.))\n",
    "# else:\n",
    "#     g = uw.function.misc.constant((0.,0.,0.))\n",
    "\n",
    "g = uw.function.misc.constant((0.,0.,0.))\n",
    "\n",
    "gwPressureGrad = gwHydraulicHead.fn_gradient\n",
    "\n",
    "gMapFn = -g*rho_water*Storage"
   ]
  },
  {
   "cell_type": "code",
   "execution_count": 21,
   "metadata": {},
   "outputs": [],
   "source": [
    "fn_thermalDiffusivity = thermalDiffusivity*(298.0/temperatureField)**a_exponent\n",
    "fn_source = uw.function.math.dot(-1.0*coeff*velocityField, temperatureField.fn_gradient) + heatProductionField"
   ]
  },
  {
   "cell_type": "code",
   "execution_count": 22,
   "metadata": {
    "lines_to_next_cell": 2
   },
   "outputs": [],
   "source": [
    "# groundwater solver\n",
    "gwadvDiff = uw.systems.SteadyStateDarcyFlow(\n",
    "                                            velocityField    = velocityField, \\\n",
    "                                            pressureField    = gwHydraulicHead, \\\n",
    "                                            fn_diffusivity   = fn_hydraulicDiffusivity, \\\n",
    "                                            conditions       = [gwPressureBC], \\\n",
    "                                            fn_bodyforce     = g, \\\n",
    "                                            voronoi_swarm    = swarm, \\\n",
    "                                            swarmVarVelocity = swarmVelocity)\n",
    "\n",
    "\n",
    "# heatflow solver\n",
    "heateqn = uw.systems.SteadyStateHeat( temperatureField = temperatureField, \\\n",
    "                                      fn_diffusivity   = fn_thermalDiffusivity, \\\n",
    "                                      fn_heating       = heatProduction, \\\n",
    "                                      conditions       = temperatureBC \\\n",
    "                                      )"
   ]
  },
  {
   "cell_type": "code",
   "execution_count": 23,
   "metadata": {
    "lines_to_end_of_cell_marker": 2
   },
   "outputs": [],
   "source": [
    "### solve the groudwater flow\n",
    "gwsolver = uw.systems.Solver(gwadvDiff)\n",
    "\n",
    "\n",
    "### solve the heat flow\n",
    "heatsolver = uw.systems.Solver(heateqn)\n",
    "\n",
    "### create a copy of the original temperature field before solving\n",
    "temperatureField0.data[:] = temperatureField.data[:]\n",
    "\n",
    "\n",
    "gwsolver.solve()\n",
    "heatsolver.solve(nonLinearIterate=False)"
   ]
  },
  {
   "cell_type": "code",
   "execution_count": 24,
   "metadata": {},
   "outputs": [],
   "source": [
    "pressureField = gwHydraulicHead.copy(deepcopy=True)\n",
    "pressureField.data[:] -= zCoordFn.evaluate(mesh)"
   ]
  },
  {
   "cell_type": "code",
   "execution_count": 25,
   "metadata": {},
   "outputs": [],
   "source": [
    "## calculate velocity from Darcy velocity\n",
    "# velocityField.data[:] /= np.clip(fn_porosity(depth_mesh*1e-3, porosity, 0.071, 5.989), 0.0, 1.0).reshape(-1,1)\n",
    "velocityField.data[:] /= porosity.data[:]#np.clip(fn_porosity(depth_mesh*1e-3, 0.474, 0.071, 5.989), 0.0, 1.0).reshape(-1,1)"
   ]
  },
  {
   "cell_type": "code",
   "execution_count": 26,
   "metadata": {},
   "outputs": [],
   "source": [
    "# temperature-dependent conductivity\n",
    "temperatureField.data[:] = np.clip(temperatureField.data, Tmin, Tmax)\n",
    "temperatureField.data[topWall] = Tmin\n",
    "temperatureField.data[bottomWall] = Tmax"
   ]
  },
  {
   "cell_type": "code",
   "execution_count": 27,
   "metadata": {},
   "outputs": [],
   "source": [
    "# dummy mesh variable\n",
    "phiField        = mesh.add_variable( nodeDofCount=1 )\n",
    "heatflowField   = mesh.add_variable( nodeDofCount=3 )\n",
    "\n",
    "\n",
    "# calculate heat flux\n",
    "thermalDiffusivity.data[:] = fn_thermalDiffusivity.evaluate(swarm)\n",
    "kTproj = uw.utils.MeshVariable_Projection(phiField, thermalDiffusivity, swarm)\n",
    "kTproj.solve()\n",
    "\n",
    "heatflowField.data[:] = temperatureField.fn_gradient.evaluate(mesh) * -phiField.data.reshape(-1,1)"
   ]
  },
  {
   "cell_type": "markdown",
   "metadata": {},
   "source": [
    "## Save to HDF5"
   ]
  },
  {
   "cell_type": "code",
   "execution_count": 28,
   "metadata": {
    "lines_to_next_cell": 0
   },
   "outputs": [],
   "source": [
    "xdmf_info_mesh  = mesh.save(simulation_directory+'mesh.h5')\n",
    "xdmf_info_swarm = swarm.save(simulation_directory+'swarm.h5')\n",
    "\n",
    "xdmf_info_matIndex = materialIndex.save(simulation_directory+'materialIndex.h5')\n",
    "materialIndex.xdmf(simulation_directory+'materialIndex.xdmf', xdmf_info_matIndex,\n",
    "                   'materialIndex', xdmf_info_swarm, 'TheSwarm')\n",
    "\n",
    "\n",
    "# dummy mesh variable\n",
    "phiField = mesh.add_variable( nodeDofCount=1 )\n",
    "\n",
    "\n",
    "for xdmf_info,save_name,save_object in [(xdmf_info_swarm, 'materialIndexSwarm', materialIndex),\n",
    "                                        (xdmf_info_swarm, 'hydraulicDiffusivitySwarm', fn_hydraulicDiffusivity),\n",
    "                                        (xdmf_info_swarm, 'thermalDiffusivitySwarm', thermalDiffusivity),\n",
    "                                        (xdmf_info_swarm, 'heatProductionSwarm', heatProduction),\n",
    "                                        (xdmf_info_mesh, 'temperatureField', temperatureField),\n",
    "                                        (xdmf_info_mesh, 'velocityField', velocityField),\n",
    "                                        (xdmf_info_mesh, 'hydraulicHeadField', gwHydraulicHead),\n",
    "                                        ]:\n",
    "    \n",
    "    xdmf_info_var = save_object.save(simulation_directory+save_name+'.h5')\n",
    "    save_object.xdmf(simulation_directory+save_name+'.xdmf', xdmf_info_var, save_name, xdmf_info, 'TheMesh')\n",
    "\n",
    "    if save_name.endswith(\"Swarm\"):\n",
    "        # project swarm variables to the mesh\n",
    "        hydproj = uw.utils.MeshVariable_Projection(phiField, save_object, swarm)\n",
    "        hydproj.solve()\n",
    "\n",
    "        field_name = save_name[:-5]+'Field'\n",
    "        xdmf_info_var = phiField.save(simulation_directory+field_name+'.h5')\n",
    "        phiField.xdmf(simulation_directory+field_name+'.xdmf',\n",
    "                      xdmf_info_var, field_name,\n",
    "                      xdmf_info_mesh, \"TheMesh\")"
   ]
  },
  {
   "cell_type": "code",
   "execution_count": 127,
   "metadata": {},
   "outputs": [],
   "source": [
    "### Doesn't work in parallel but can be done in post processing\n",
    "\n",
    "# ### create a dataframe to caculate stats easily\n",
    "# vel_df = pd.DataFrame()\n",
    "\n",
    "# ### put velocity data into dataframe \n",
    "# vel_df['vel x'] = velocityField.data[:,0]\n",
    "# vel_df['vel y'] = velocityField.data[:,1]\n",
    "# vel_df['vel z'] = velocityField.data[:,2]\n",
    "# vel_df.insert(0, 'mat', materialIndex.evaluate(mesh))\n",
    "\n",
    "\n",
    "# ### group by material and then caculate stats for each material\n",
    "# vel_stats = pd.DataFrame()\n",
    "# vel_stats = vel_df.groupby(\"mat\").describe()\n",
    "\n",
    "# ### maps material index to layer names\n",
    "# layerNameDic = dict(zip(df_layers['mat index'], df_layers['Name Aquifer/Aquitard']))\n",
    "# layerDescriptionDic = dict(zip(df_layers['mat index'], df_layers[df_layers.columns[4]]))\n",
    "\n",
    "# ### adds column of layer names into the stats dataframe\n",
    "# vel_stats.insert(0, 'Name Aquifer/Aquitard', vel_stats.index.map(layerNameDic))\n",
    "# vel_stats.insert(1, 'Hydrostratigraphy (2012 Atlas)', vel_stats.index.map(layerDescriptionDic))\n",
    "\n",
    "# ### save values\n",
    "# vel_stats.to_csv(simulation_directory+'velocity_stats.csv')"
   ]
  },
  {
   "cell_type": "code",
   "execution_count": null,
   "metadata": {},
   "outputs": [],
   "source": []
  }
 ],
 "metadata": {
  "jupytext": {
   "formats": "ipynb,py:light"
  },
  "kernelspec": {
   "display_name": "Python 3",
   "language": "python",
   "name": "python3"
  },
  "language_info": {
   "codemirror_mode": {
    "name": "ipython",
    "version": 3
   },
   "file_extension": ".py",
   "mimetype": "text/x-python",
   "name": "python",
   "nbconvert_exporter": "python",
   "pygments_lexer": "ipython3",
   "version": "3.8.5"
  }
 },
 "nbformat": 4,
 "nbformat_minor": 4
}
