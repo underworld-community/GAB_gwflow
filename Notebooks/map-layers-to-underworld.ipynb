{
 "cells": [
  {
   "cell_type": "markdown",
   "metadata": {},
   "source": [
    "# Map layers to Underworld\n",
    "\n",
    "Each layer corresponds to the region between two surfaces as defined in `layer_index.csv`. Each layer is assigned a \"material index\" which is used to map the thermal and hydraulic properties,\n",
    "\n",
    "- $k_h$: hydraulic conductivity (m/s)\n",
    "- $\\phi$: porosity\n",
    "- $k_T$: thermal conductivity (W/m/K)\n",
    "- $H$: rate of heat production (W/m$^3$)\n",
    "- $T_b$: lower temperature boundary condition"
   ]
  },
  {
   "cell_type": "code",
   "execution_count": 1,
   "metadata": {},
   "outputs": [],
   "source": [
    "import numpy as np\n",
    "import underworld as uw\n",
    "import pandas as pd\n",
    "import os\n",
    "from scipy.interpolate import RegularGridInterpolator\n",
    "\n",
    "%matplotlib inline"
   ]
  },
  {
   "cell_type": "code",
   "execution_count": 2,
   "metadata": {},
   "outputs": [
    {
     "name": "stdout",
     "output_type": "stream",
     "text": [
      "number of elements in x,y,z (99, 129, 184) | total number of elements = 2349864\n"
     ]
    }
   ],
   "source": [
    "zfile_directory = \"../Zipped zmap surfaces/Zipped zmap surfaces/\"\n",
    "geotiff_directory = \"../data/GAB_surfaces/GeoTiff/\"\n",
    "numpy_directory = \"../data/GAB_surfaces/NumPy/\"\n",
    "png_directory = \"../data/GAB_surfaces/png/\"\n",
    "surface_filename = numpy_directory + \"{:s}.npz\"\n",
    "simulation_directory = \"../simulations/\"\n",
    "\n",
    "df_layers = pd.read_csv(\"../data/GAB_surfaces/layer_index.csv\", index_col=0)\n",
    "n_layers = df_layers.shape[0]\n",
    "\n",
    "data_dir = \"../Data/\"\n",
    "Tmin = 298.0\n",
    "Tmax = 500.0\n",
    "Nx, Ny, Nz = 20,20,50 # global size\n",
    "\n",
    "# define bounding box\n",
    "xmin, xmax, ymin, ymax = -955637.8812, 1034362.2443650428, 6342298.2975, 8922298.39436168\n",
    "zmin, zmax = -8000.0, 1200.0\n",
    "\n",
    "# resolution\n",
    "dx, dy, dz = 20e3, 20e3, 50.\n",
    "Nx, Ny, Nz = int((xmax-xmin)/dx), int((ymax-ymin)/dy), int((zmax-zmin)/dz)\n",
    "\n",
    "print(\"number of elements in x,y,z {} | total number of elements = {}\".format((Nx,Ny,Nz), Nx*Ny*Nz))"
   ]
  },
  {
   "cell_type": "markdown",
   "metadata": {},
   "source": [
    "## Set up the mesh\n",
    "\n",
    "Initialise a Q1 finite element mesh and mesh variables."
   ]
  },
  {
   "cell_type": "code",
   "execution_count": 3,
   "metadata": {},
   "outputs": [
    {
     "name": "stdout",
     "output_type": "stream",
     "text": [
      "\tGlobal element size: 99x129x184\n",
      "\tLocal offset of rank 0: 0x0x0\n",
      "\tLocal range of rank 0: 99x129x184\n"
     ]
    }
   ],
   "source": [
    "deformedmesh = True\n",
    "elementType = \"Q1\"\n",
    "mesh = uw.mesh.FeMesh_Cartesian( elementType = (elementType), \n",
    "                                 elementRes  = (Nx,Ny,Nz), \n",
    "                                 minCoord    = (xmin,ymin,zmin), \n",
    "                                 maxCoord    = (xmax,ymax,zmax)) \n",
    "\n",
    "gwHydraulicHead            = mesh.add_variable( nodeDofCount=1 )\n",
    "temperatureField           = mesh.add_variable( nodeDofCount=1 )\n",
    "temperatureField0          = mesh.add_variable( nodeDofCount=1 )\n",
    "velocityField              = mesh.add_variable( nodeDofCount=3 )\n",
    "heatProductionField        = mesh.add_variable( nodeDofCount=1 )\n",
    "\n",
    "\n",
    "coords = mesh.data\n",
    "\n",
    "Xcoords = np.unique(coords[:,0])\n",
    "Ycoords = np.unique(coords[:,1])\n",
    "Zcoords = np.unique(coords[:,2])\n",
    "nx, ny, nz = Xcoords.size, Ycoords.size, Zcoords.size"
   ]
  },
  {
   "cell_type": "markdown",
   "metadata": {},
   "source": [
    "## Deform mesh to surface topography\n",
    "\n",
    "We want to deform the $z$-axis spacing so that the surface of the mesh is draped over the topography."
   ]
  },
  {
   "cell_type": "code",
   "execution_count": 4,
   "metadata": {},
   "outputs": [],
   "source": [
    "with np.load(surface_filename.format(df_layers['Layer name'][0])) as npz:\n",
    "    topo_interp = RegularGridInterpolator((npz['y'], npz['x']), np.flipud(npz['data']))\n",
    "    \n",
    "    \n",
    "local_topography = topo_interp((mesh.data[:,1], mesh.data[:,0]))\n",
    "\n",
    "# depth above which to deform\n",
    "z_deform = zmin\n",
    "\n",
    "with mesh.deform_mesh():\n",
    "    zcube = coords[:,2].reshape(nz,ny,nx)\n",
    "    zcube_norm = zcube.copy()\n",
    "    zcube_norm -= z_deform\n",
    "    zcube_norm /= zmax - z_deform\n",
    "    zcube_mask = zcube_norm < 0\n",
    "    \n",
    "    # difference to add to existing z coordinates\n",
    "    dzcube = zcube_norm * -(zmax - local_topography.reshape(zcube.shape))\n",
    "    \n",
    "    mesh.data[:,2] += dzcube.ravel()\n",
    "    coords = mesh.data"
   ]
  },
  {
   "cell_type": "markdown",
   "metadata": {},
   "source": [
    "## Set up the types of boundary conditions\n",
    "\n",
    "Set the left, right and bottom walls such that flow cannot pass through them, only parallel.\n",
    "In other words for groundwater head $h$:\n",
    "\n",
    "$ \\frac{\\partial h}{\\partial x}=0$ : left and right walls\n",
    "\n",
    "$ \\frac{\\partial h}{\\partial y}=0$ : bottom wall\n",
    "\n",
    "This is only solvable if there is topography or a non-uniform upper hydraulic head boundary condition."
   ]
  },
  {
   "cell_type": "code",
   "execution_count": 5,
   "metadata": {},
   "outputs": [],
   "source": [
    "topWall = mesh.specialSets[\"MaxK_VertexSet\"]\n",
    "bottomWall = mesh.specialSets[\"MinK_VertexSet\"]\n",
    "\n",
    "gwPressureBC = uw.conditions.DirichletCondition( variable      = gwHydraulicHead, \n",
    "                                               indexSetsPerDof = ( topWall   ) )\n",
    "\n",
    "temperatureBC = uw.conditions.DirichletCondition( variable        = temperatureField,\n",
    "                                                  indexSetsPerDof = (topWall+bottomWall))"
   ]
  },
  {
   "cell_type": "code",
   "execution_count": 6,
   "metadata": {},
   "outputs": [],
   "source": [
    "# create a linear gradient [0, 1] top to bottom of mesh\n",
    "znorm = mesh.data[:,2].copy()\n",
    "znorm -= zmin\n",
    "znorm /= (zmax-zmin)\n",
    "linear_gradient = 1.0 - znorm\n",
    "\n",
    "# pressure and temperature initial conditions\n",
    "initial_pressure = linear_gradient*(zmax-zmin)\n",
    "initial_temperature = linear_gradient*(Tmax - Tmin) + Tmin\n",
    "initial_temperature = np.clip(initial_temperature, Tmin, Tmax)\n",
    "\n",
    "gwHydraulicHead.data[:]  = initial_pressure.reshape(-1,1)\n",
    "temperatureField.data[:] = initial_temperature.reshape(-1,1)\n",
    "\n",
    "# assign BCs (account for pressure of water below sea level)\n",
    "sealevel = 0.0\n",
    "seafloor = topWall[mesh.data[topWall,2] < sealevel]\n",
    "\n",
    "gwHydraulicHead.data[topWall] = 0.\n",
    "gwHydraulicHead.data[seafloor] = -((mesh.data[seafloor,2]-sealevel)*1.0).reshape(-1,1)\n",
    "temperatureField.data[topWall] = Tmin\n",
    "temperatureField.data[bottomWall] = Tmax"
   ]
  },
  {
   "cell_type": "markdown",
   "metadata": {},
   "source": [
    "### Import water table surface"
   ]
  },
  {
   "cell_type": "code",
   "execution_count": null,
   "metadata": {},
   "outputs": [],
   "source": []
  },
  {
   "cell_type": "markdown",
   "metadata": {},
   "source": [
    "## Set up particle swarm\n",
    "\n",
    "Each cell contains particles that _must_ be assigned isotropic thermal and hydraulic properties.\n",
    "\n",
    "> __Four__ particles per cell seems to prevent the model from crashing."
   ]
  },
  {
   "cell_type": "code",
   "execution_count": 7,
   "metadata": {},
   "outputs": [],
   "source": [
    "gaussPointCount = 1\n",
    "gaussPointPerCell = gaussPointCount**mesh.dim\n",
    "\n",
    "swarm         = uw.swarm.Swarm( mesh=mesh )\n",
    "swarmLayout   = uw.swarm.layouts.PerCellGaussLayout(swarm=swarm, gaussPointCount=gaussPointCount)\n",
    "swarm.populate_using_layout( layout=swarmLayout )"
   ]
  },
  {
   "cell_type": "code",
   "execution_count": 8,
   "metadata": {},
   "outputs": [],
   "source": [
    "materialIndex  = swarm.add_variable( dataType=\"int\",    count=1 )\n",
    "cellCentroid   = swarm.add_variable( dataType=\"double\", count=3 )\n",
    "swarmVelocity  = swarm.add_variable( dataType=\"double\", count=3 )\n",
    "\n",
    "hydraulicDiffusivity    = swarm.add_variable( dataType=\"double\", count=1 )\n",
    "fn_hydraulicDiffusivity = swarm.add_variable( dataType=\"double\", count=1 )\n",
    "thermalDiffusivity      = swarm.add_variable( dataType=\"double\", count=1 )\n",
    "heatProduction          = swarm.add_variable( dataType=\"double\", count=1 )\n",
    "a_exponent              = swarm.add_variable( dataType=\"double\", count=1 )"
   ]
  },
  {
   "cell_type": "raw",
   "metadata": {},
   "source": [
    "# find cell centroids (parallel-safe, but need to accelerate this bit.)\n",
    "\n",
    "for cell in range(0, mesh.elementsLocal):\n",
    "    mask_cell = swarm.owningCell.data == cell\n",
    "    idx_cell  = np.nonzero(mask_cell)[0]\n",
    "    cell_centroid = swarm.data[idx_cell].mean(axis=0)\n",
    "    cellCentroid.data[idx_cell] = cell_centroid"
   ]
  },
  {
   "cell_type": "code",
   "execution_count": 9,
   "metadata": {},
   "outputs": [],
   "source": [
    "# find the centroids using a single gaussPointCount per cell (parallel-safe, maybe)\n",
    "\n",
    "swarm0         = uw.swarm.Swarm( mesh=mesh )\n",
    "swarmLayout0   = uw.swarm.layouts.PerCellGaussLayout(swarm=swarm0, gaussPointCount=1)\n",
    "swarm0.populate_using_layout( layout=swarmLayout0 )\n",
    "\n",
    "cell_centroids = swarm0.data[:]\n",
    "cellCentroid.data[:] = np.repeat(cell_centroids, gaussPointPerCell, axis=0)"
   ]
  },
  {
   "cell_type": "markdown",
   "metadata": {},
   "source": [
    "## Import geological surfaces\n",
    "\n",
    "Assign a material index for all cell centroids which lie between two surfaces"
   ]
  },
  {
   "cell_type": "code",
   "execution_count": 25,
   "metadata": {},
   "outputs": [
    {
     "name": "stdout",
     "output_type": "stream",
     "text": [
      "Layer  0  Cenozoic\n",
      "Layer  1  Late Cretaceous\n",
      "Layer  2  Early Cretaceous\n",
      "Layer  3  Early Cretaceous\n",
      "Layer  4  Late Jurassic\n",
      "Layer  5  Late Jurassic\n",
      "Layer  6  Late Jurassic\n",
      "Layer  7  Middle Jurassic\n",
      "Layer  8  Early Jurassic\n",
      "Layer  9  Early Jurassic\n",
      "Layer 10  Late Triassic\n",
      "Layer 11  Early Triassic\n",
      "Layer 12  Late Permian\n",
      "Layer 13  Early Permian\n"
     ]
    }
   ],
   "source": [
    "materialIndex.data[:] = 0\n",
    "mask_layer = np.ones(swarm.data.shape[0], dtype=bool)\n",
    "\n",
    "# starting from the surface and going deeper with each layer\n",
    "for index in df_layers.index:\n",
    "    row = df_layers.loc[index]\n",
    "    \n",
    "    # load surface\n",
    "    with np.load(surface_filename.format(row['Layer name'])) as npz:\n",
    "        layer_interp = RegularGridInterpolator((npz['y'], npz['x']), np.flipud(npz['data']))\n",
    "        \n",
    "    # interpolate surface to cell centroids\n",
    "    z_interp = layer_interp((cellCentroid.data[:,1], cellCentroid.data[:,0]))\n",
    "    \n",
    "    # assign index to swarm particles which are below the current surface\n",
    "    # if they are above the surface then we are done.\n",
    "#     mask_layer[cellCentroid.data[:,2] > z_interp] = False\n",
    "    mask_layer = cellCentroid.data[:,2] < z_interp\n",
    "    materialIndex.data[mask_layer] = index\n",
    "    \n",
    "    print(\"Layer {:2d}  {}\".format(index, row['Display name']))\n",
    "    "
   ]
  },
  {
   "cell_type": "markdown",
   "metadata": {},
   "source": [
    "## Assign material properties\n",
    "\n",
    "Use level sets to assign hydraulic diffusivities to a region on the mesh corresponding to any given material index.\n",
    "\n",
    "- $H$       : rate of heat production\n",
    "- $\\rho$     : density\n",
    "- $k_h$     : hydraulic conductivity\n",
    "- $k_t$     : thermal conductivity\n",
    "- $\\kappa_h$ : hydraulic diffusivity\n",
    "- $\\kappa_t$ : thermal diffusivity\n"
   ]
  },
  {
   "cell_type": "markdown",
   "metadata": {},
   "source": [
    "## Save to HDF5"
   ]
  },
  {
   "cell_type": "code",
   "execution_count": 26,
   "metadata": {},
   "outputs": [],
   "source": [
    "xdmf_info_mesh  = mesh.save(simulation_directory+'mesh.h5')\n",
    "xdmf_info_swarm = swarm.save(simulation_directory+'swarm.h5')\n",
    "\n",
    "xdmf_info_matIndex = materialIndex.save(simulation_directory+'materialIndex.h5')\n",
    "materialIndex.xdmf(simulation_directory+'materialIndex.xdmf', xdmf_info_matIndex,\n",
    "                   'materialIndex', xdmf_info_swarm, 'TheSwarm')\n",
    "\n",
    "\n",
    "# dummy mesh variable\n",
    "phiField = mesh.add_variable( nodeDofCount=1 )\n",
    "\n",
    "\n",
    "for xdmf_info,save_name,save_object in [(xdmf_info_swarm, 'materialIndexSwarm', materialIndex),\n",
    "#                                         (xdmf_info_swarm, 'hydraulicDiffusivitySwarm', fn_hydraulicDiffusivity),\n",
    "#                                         (xdmf_info_swarm, 'thermalDiffusivitySwarm', thermalDiffusivity),\n",
    "#                                         (xdmf_info_swarm, 'heatProductionSwarm', heatProduction),\n",
    "                                        ]:\n",
    "    \n",
    "    xdmf_info_var = save_object.save(simulation_directory+save_name+'.h5')\n",
    "    save_object.xdmf(simulation_directory+save_name+'.xdmf', xdmf_info_var, save_name, xdmf_info, 'TheMesh')\n",
    "\n",
    "    if save_name.endswith(\"Swarm\"):\n",
    "        # project swarm variables to the mesh\n",
    "        hydproj = uw.utils.MeshVariable_Projection(phiField, save_object, swarm)\n",
    "        hydproj.solve()\n",
    "\n",
    "        field_name = save_name[:-5]+'Field'\n",
    "        xdmf_info_var = phiField.save(simulation_directory+field_name+'.h5')\n",
    "        phiField.xdmf(simulation_directory+field_name+'.xdmf',\n",
    "                      xdmf_info_var, field_name,\n",
    "                      xdmf_info_mesh, \"TheMesh\")"
   ]
  },
  {
   "cell_type": "code",
   "execution_count": null,
   "metadata": {},
   "outputs": [],
   "source": []
  }
 ],
 "metadata": {
  "jupytext": {
   "formats": "ipynb,py:light"
  },
  "kernelspec": {
   "display_name": "Python 3 (ipykernel)",
   "language": "python",
   "name": "python3"
  },
  "language_info": {
   "codemirror_mode": {
    "name": "ipython",
    "version": 3
   },
   "file_extension": ".py",
   "mimetype": "text/x-python",
   "name": "python",
   "nbconvert_exporter": "python",
   "pygments_lexer": "ipython3",
   "version": "3.9.7"
  }
 },
 "nbformat": 4,
 "nbformat_minor": 4
}
